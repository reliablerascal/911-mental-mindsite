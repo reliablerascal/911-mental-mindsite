{
 "cells": [
  {
   "cell_type": "code",
   "execution_count": 1,
   "id": "0b663350",
   "metadata": {},
   "outputs": [],
   "source": [
    "import pandas as pd"
   ]
  },
  {
   "cell_type": "markdown",
   "id": "20199dd0",
   "metadata": {},
   "source": [
    "# Cincinnati\n",
    "Original data source was https://data.cincinnati-oh.gov/safety/PDI-Police-Data-Initiative-Police-Calls-for-Servic/gexm-h6bt/data\n",
    "<br>filtered within portal for time range (2017 to 2021) and incident type (MHRT and MHRTV) prior to download from data portal"
   ]
  },
  {
   "cell_type": "code",
   "execution_count": 17,
   "id": "09da0065",
   "metadata": {},
   "outputs": [
    {
     "data": {
      "text/html": [
       "<div>\n",
       "<style scoped>\n",
       "    .dataframe tbody tr th:only-of-type {\n",
       "        vertical-align: middle;\n",
       "    }\n",
       "\n",
       "    .dataframe tbody tr th {\n",
       "        vertical-align: top;\n",
       "    }\n",
       "\n",
       "    .dataframe thead th {\n",
       "        text-align: right;\n",
       "    }\n",
       "</style>\n",
       "<table border=\"1\" class=\"dataframe\">\n",
       "  <thead>\n",
       "    <tr style=\"text-align: right;\">\n",
       "      <th></th>\n",
       "      <th>CREATE_TIME_INCIDENT</th>\n",
       "      <th>INCIDENT_TYPE_ID</th>\n",
       "    </tr>\n",
       "  </thead>\n",
       "  <tbody>\n",
       "    <tr>\n",
       "      <th>0</th>\n",
       "      <td>11/15/2021 11:03:58 PM</td>\n",
       "      <td>MHRT</td>\n",
       "    </tr>\n",
       "    <tr>\n",
       "      <th>1</th>\n",
       "      <td>11/15/2021 10:42:59 PM</td>\n",
       "      <td>MHRTV</td>\n",
       "    </tr>\n",
       "    <tr>\n",
       "      <th>2</th>\n",
       "      <td>11/15/2021 10:05:22 PM</td>\n",
       "      <td>MHRTV</td>\n",
       "    </tr>\n",
       "    <tr>\n",
       "      <th>3</th>\n",
       "      <td>11/15/2021 04:41:00 PM</td>\n",
       "      <td>MHRT</td>\n",
       "    </tr>\n",
       "    <tr>\n",
       "      <th>4</th>\n",
       "      <td>11/15/2021 03:09:23 PM</td>\n",
       "      <td>MHRT</td>\n",
       "    </tr>\n",
       "  </tbody>\n",
       "</table>\n",
       "</div>"
      ],
      "text/plain": [
       "     CREATE_TIME_INCIDENT INCIDENT_TYPE_ID\n",
       "0  11/15/2021 11:03:58 PM             MHRT\n",
       "1  11/15/2021 10:42:59 PM            MHRTV\n",
       "2  11/15/2021 10:05:22 PM            MHRTV\n",
       "3  11/15/2021 04:41:00 PM             MHRT\n",
       "4  11/15/2021 03:09:23 PM             MHRT"
      ]
     },
     "execution_count": 17,
     "metadata": {},
     "output_type": "execute_result"
    }
   ],
   "source": [
    "#read and inspect data \n",
    "df_cincinnati = pd.read_csv(\"data/cincinnati_cfs_mh_2017_2021.csv\", usecols = [\"CREATE_TIME_INCIDENT\",\"INCIDENT_TYPE_ID\"])\n",
    "df_cincinnati.head()"
   ]
  },
  {
   "cell_type": "code",
   "execution_count": 18,
   "id": "91d1cc0b",
   "metadata": {},
   "outputs": [
    {
     "data": {
      "text/plain": [
       "INCIDENT_TYPE_ID\n",
       "MHRT     23970\n",
       "MHRTV    16869\n",
       "Name: count, dtype: int64"
      ]
     },
     "execution_count": 18,
     "metadata": {},
     "output_type": "execute_result"
    }
   ],
   "source": [
    "# inspect count of records\n",
    "df_cincinnati[\"INCIDENT_TYPE_ID\"].value_counts()"
   ]
  },
  {
   "cell_type": "code",
   "execution_count": 19,
   "id": "d1eb9ca3",
   "metadata": {},
   "outputs": [
    {
     "data": {
      "text/plain": [
       "0.4130610445897304"
      ]
     },
     "execution_count": 19,
     "metadata": {},
     "output_type": "execute_result"
    }
   ],
   "source": [
    "pct_violent = df_cincinnati[\"INCIDENT_TYPE_ID\"].value_counts()['MHRTV']/len(df_cincinnati)\n",
    "pct_violent"
   ]
  },
  {
   "cell_type": "markdown",
   "id": "fbfdc166",
   "metadata": {},
   "source": [
    "# Detroit\n",
    "Archived dataset retrieved from https://apis.detroitmi.gov/data/index.html"
   ]
  },
  {
   "cell_type": "code",
   "execution_count": 21,
   "id": "0c984341",
   "metadata": {},
   "outputs": [
    {
     "data": {
      "text/html": [
       "<div>\n",
       "<style scoped>\n",
       "    .dataframe tbody tr th:only-of-type {\n",
       "        vertical-align: middle;\n",
       "    }\n",
       "\n",
       "    .dataframe tbody tr th {\n",
       "        vertical-align: top;\n",
       "    }\n",
       "\n",
       "    .dataframe thead th {\n",
       "        text-align: right;\n",
       "    }\n",
       "</style>\n",
       "<table border=\"1\" class=\"dataframe\">\n",
       "  <thead>\n",
       "    <tr style=\"text-align: right;\">\n",
       "      <th></th>\n",
       "      <th>category</th>\n",
       "      <th>call_timestamp</th>\n",
       "    </tr>\n",
       "  </thead>\n",
       "  <tbody>\n",
       "    <tr>\n",
       "      <th>0</th>\n",
       "      <td>DISTURB</td>\n",
       "      <td>2016-09-20 05:36:12-04:00</td>\n",
       "    </tr>\n",
       "    <tr>\n",
       "      <th>1</th>\n",
       "      <td>ACCUNK</td>\n",
       "      <td>2016-09-20 05:46:32-04:00</td>\n",
       "    </tr>\n",
       "    <tr>\n",
       "      <th>2</th>\n",
       "      <td>RECAUTO</td>\n",
       "      <td>2016-09-20 05:48:24-04:00</td>\n",
       "    </tr>\n",
       "    <tr>\n",
       "      <th>3</th>\n",
       "      <td>DISTURB</td>\n",
       "      <td>2016-09-20 05:50:29-04:00</td>\n",
       "    </tr>\n",
       "    <tr>\n",
       "      <th>4</th>\n",
       "      <td>RECAUTO</td>\n",
       "      <td>2016-09-20 05:54:37-04:00</td>\n",
       "    </tr>\n",
       "  </tbody>\n",
       "</table>\n",
       "</div>"
      ],
      "text/plain": [
       "   category             call_timestamp\n",
       "0  DISTURB   2016-09-20 05:36:12-04:00\n",
       "1  ACCUNK    2016-09-20 05:46:32-04:00\n",
       "2  RECAUTO   2016-09-20 05:48:24-04:00\n",
       "3  DISTURB   2016-09-20 05:50:29-04:00\n",
       "4  RECAUTO   2016-09-20 05:54:37-04:00"
      ]
     },
     "execution_count": 21,
     "metadata": {},
     "output_type": "execute_result"
    }
   ],
   "source": [
    "#read and inspect data\n",
    "df_detroit = pd.read_csv(\"data/detroit_cfs.csv\", usecols = [\"call_timestamp\", \"category\"])\n",
    "df_detroit.head()"
   ]
  },
  {
   "cell_type": "code",
   "execution_count": 23,
   "id": "21e36a04",
   "metadata": {},
   "outputs": [],
   "source": [
    "#filter for just 2017 to 2021\n",
    "#filter just for Mental categories\n",
    "df_detroit = df_detroit[(df_detroit['call_timestamp'] > '2017-01-01') & (df_detroit['call_timestamp'] < '2022-01-01')]\n",
    "df_detroit = df_detroit.query(\"category in ('MNTLARM ','MNTLNARM','MENTPPRS')\")"
   ]
  },
  {
   "cell_type": "code",
   "execution_count": 24,
   "id": "d1d04641",
   "metadata": {},
   "outputs": [],
   "source": [
    "#write this to a new file\n",
    "df_detroit.to_csv(\"data/detroit_cfs_mh_2017_2021.csv\")"
   ]
  },
  {
   "cell_type": "code",
   "execution_count": 25,
   "id": "6c49bc4c",
   "metadata": {},
   "outputs": [
    {
     "data": {
      "text/plain": [
       "category\n",
       "MNTLNARM    21320\n",
       "MENTPPRS    11841\n",
       "MNTLARM      5894\n",
       "Name: count, dtype: int64"
      ]
     },
     "execution_count": 25,
     "metadata": {},
     "output_type": "execute_result"
    }
   ],
   "source": [
    "# inspect count of records\n",
    "df_detroit[\"category\"].value_counts()"
   ]
  },
  {
   "cell_type": "code",
   "execution_count": 28,
   "id": "e72c64de",
   "metadata": {},
   "outputs": [
    {
     "data": {
      "text/plain": [
       "0.6968121879400845"
      ]
     },
     "execution_count": 28,
     "metadata": {},
     "output_type": "execute_result"
    }
   ],
   "source": [
    "n_violent = df_detroit[\"category\"].value_counts()['MNTLNARM'] + df_detroit[\"category\"].value_counts()['MNTLARM ']\n",
    "pct_violent = n_violent/len(df_detroit)\n",
    "pct_violent"
   ]
  },
  {
   "cell_type": "code",
   "execution_count": null,
   "id": "2661f799",
   "metadata": {},
   "outputs": [],
   "source": []
  }
 ],
 "metadata": {
  "kernelspec": {
   "display_name": "Python 3 (ipykernel)",
   "language": "python",
   "name": "python3"
  },
  "language_info": {
   "codemirror_mode": {
    "name": "ipython",
    "version": 3
   },
   "file_extension": ".py",
   "mimetype": "text/x-python",
   "name": "python",
   "nbconvert_exporter": "python",
   "pygments_lexer": "ipython3",
   "version": "3.10.12"
  }
 },
 "nbformat": 4,
 "nbformat_minor": 5
}
